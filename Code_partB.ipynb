{
 "cells": [
  {
   "cell_type": "code",
   "execution_count": 46,
   "metadata": {},
   "outputs": [],
   "source": [
    "#importing required libraries\n",
    "\n",
    "import pandas as pd\n",
    "import numpy as np\n",
    "import matplotlib.pyplot as plt\n",
    "import seaborn as sns\n",
    "import plotly.express as px\n",
    "from sklearn.model_selection import train_test_split\n",
    "from sklearn.impute import SimpleImputer\n",
    "import ast\n",
    "from sklearn.preprocessing import MultiLabelBinarizer, OneHotEncoder\n",
    "from collections import Counter\n",
    "from sklearn.preprocessing import StandardScaler\n",
    "from sklearn.compose import ColumnTransformer\n",
    "from sklearn.linear_model import LinearRegression\n",
    "from sklearn.metrics import mean_squared_error,r2_score\n",
    "from sklearn.linear_model import LogisticRegression\n",
    "from sklearn.metrics import classification_report, confusion_matrix, accuracy_score\n",
    "from sklearn.metrics import accuracy_score, precision_score, recall_score, f1_score\n",
    "from sklearn.tree import DecisionTreeClassifier\n",
    "from sklearn.ensemble import RandomForestClassifier\n",
    "from sklearn.neighbors import KNeighborsClassifier\n",
    "from sklearn.linear_model import SGDRegressor\n"
   ]
  },
  {
   "cell_type": "code",
   "execution_count": 47,
   "metadata": {},
   "outputs": [],
   "source": [
    "#reading the data\n",
    "\n",
    "df=pd.read_csv(\"data/zomato_df_final_data.csv\")"
   ]
  },
  {
   "cell_type": "markdown",
   "metadata": {},
   "source": [
    "## 4. Modelling"
   ]
  },
  {
   "cell_type": "markdown",
   "metadata": {},
   "source": [
    "### 4.1 Data Pre-processing and Feature Engineering"
   ]
  },
  {
   "cell_type": "code",
   "execution_count": 48,
   "metadata": {},
   "outputs": [],
   "source": [
    "features_model=df[[\"cost\",\"cuisine\",\"subzone\",\"type\",\"votes\",\"cost_2\",\"rating_number\"]]"
   ]
  },
  {
   "cell_type": "code",
   "execution_count": 49,
   "metadata": {},
   "outputs": [
    {
     "name": "stdout",
     "output_type": "stream",
     "text": [
      "(10500, 7)\n"
     ]
    }
   ],
   "source": [
    "print(features_model.shape)"
   ]
  },
  {
   "cell_type": "code",
   "execution_count": 50,
   "metadata": {},
   "outputs": [],
   "source": [
    "features_model=features_model.dropna(subset=[\"rating_number\"])"
   ]
  },
  {
   "cell_type": "code",
   "execution_count": 51,
   "metadata": {},
   "outputs": [
    {
     "name": "stdout",
     "output_type": "stream",
     "text": [
      "(7184, 7)\n"
     ]
    }
   ],
   "source": [
    "print(features_model.shape)"
   ]
  },
  {
   "cell_type": "markdown",
   "metadata": {},
   "source": [
    "#### Declare source and target variables"
   ]
  },
  {
   "cell_type": "code",
   "execution_count": 52,
   "metadata": {},
   "outputs": [],
   "source": [
    "X=features_model.drop([\"rating_number\"], axis=1)\n",
    "y=features_model[\"rating_number\"]"
   ]
  },
  {
   "cell_type": "code",
   "execution_count": 53,
   "metadata": {},
   "outputs": [
    {
     "name": "stdout",
     "output_type": "stream",
     "text": [
      "(7184, 6)\n",
      "(7184,)\n"
     ]
    }
   ],
   "source": [
    "print(X.shape)\n",
    "print(y.shape)"
   ]
  },
  {
   "cell_type": "markdown",
   "metadata": {},
   "source": [
    "#### Spliting the data into train and test set"
   ]
  },
  {
   "cell_type": "code",
   "execution_count": 54,
   "metadata": {},
   "outputs": [
    {
     "data": {
      "text/plain": [
       "((5747, 6), (1437, 6))"
      ]
     },
     "execution_count": 54,
     "metadata": {},
     "output_type": "execute_result"
    }
   ],
   "source": [
    "# separate dataset into train and test\n",
    "X_train, X_test, y_train, y_test = train_test_split(X,y,test_size=0.2,random_state=0)\n",
    "X_train.shape, X_test.shape"
   ]
  },
  {
   "cell_type": "markdown",
   "metadata": {},
   "source": [
    "#### Feature Engineering"
   ]
  },
  {
   "cell_type": "code",
   "execution_count": 55,
   "metadata": {},
   "outputs": [
    {
     "name": "stdout",
     "output_type": "stream",
     "text": [
      "Index(['cost', 'votes', 'cost_2'], dtype='object')\n",
      "Index(['cuisine', 'subzone', 'type'], dtype='object')\n"
     ]
    }
   ],
   "source": [
    "num_features = X.select_dtypes(exclude=\"object\").columns\n",
    "cat_features = X.select_dtypes(include=\"object\").columns\n",
    "\n",
    "print(num_features)\n",
    "print(cat_features)"
   ]
  },
  {
   "cell_type": "markdown",
   "metadata": {},
   "source": [
    "#### Engineering missing values in numerical variables"
   ]
  },
  {
   "cell_type": "code",
   "execution_count": 56,
   "metadata": {},
   "outputs": [
    {
     "name": "stdout",
     "output_type": "stream",
     "text": [
      "cost      float64\n",
      "votes     float64\n",
      "cost_2    float64\n",
      "dtype: object\n"
     ]
    }
   ],
   "source": [
    "print(X_train[num_features].dtypes)\n"
   ]
  },
  {
   "cell_type": "code",
   "execution_count": 57,
   "metadata": {},
   "outputs": [
    {
     "name": "stdout",
     "output_type": "stream",
     "text": [
      "cost      83\n",
      "votes      0\n",
      "cost_2    83\n",
      "dtype: int64\n"
     ]
    }
   ],
   "source": [
    "#checking for missing values in train set\n",
    "print(X_train[num_features].isnull().sum())"
   ]
  },
  {
   "cell_type": "code",
   "execution_count": 58,
   "metadata": {},
   "outputs": [
    {
     "name": "stdout",
     "output_type": "stream",
     "text": [
      "cost      20\n",
      "votes      0\n",
      "cost_2    20\n",
      "dtype: int64\n"
     ]
    }
   ],
   "source": [
    "#checking for missing values in test set\n",
    "print(X_test[num_features].isnull().sum())"
   ]
  },
  {
   "cell_type": "code",
   "execution_count": 59,
   "metadata": {},
   "outputs": [
    {
     "name": "stdout",
     "output_type": "stream",
     "text": [
      "cost      0.01\n",
      "votes     0.00\n",
      "cost_2    0.01\n",
      "dtype: float64\n"
     ]
    }
   ],
   "source": [
    "# percentage of missing values in each variable\n",
    "print(round(X_train[num_features].isnull().mean(), 2))"
   ]
  },
  {
   "cell_type": "code",
   "execution_count": 60,
   "metadata": {},
   "outputs": [
    {
     "name": "stdout",
     "output_type": "stream",
     "text": [
      "Result for training set in numerical variables\n",
      "cost      0\n",
      "votes     0\n",
      "cost_2    0\n",
      "dtype: int64\n",
      "Result for test set in numerical variables\n",
      "cost      0\n",
      "votes     0\n",
      "cost_2    0\n",
      "dtype: int64\n"
     ]
    }
   ],
   "source": [
    "#imputaion of missing values with the median value\n",
    "\n",
    "imputer = SimpleImputer(strategy=\"median\")\n",
    "X_train[num_features]=imputer.fit_transform(X_train[num_features])\n",
    "X_test[num_features]=imputer.transform(X_test[num_features])\n",
    "\n",
    "print(\"Result for training set in numerical variables\")\n",
    "print(X_train[num_features].isnull().sum())\n",
    "\n",
    "print(\"Result for test set in numerical variables\")\n",
    "print(X_test[num_features].isnull().sum())"
   ]
  },
  {
   "cell_type": "markdown",
   "metadata": {},
   "source": [
    "SimpleImputer with the median strategy has been used to handle missing values in the numerical columns. This approach ensures that missing values are replaced with the median calculated from the training data, which is robust to outliers.\n",
    "\n",
    "I have fitted the imputer on the training data to avoid data leakage, meaning there is no use of any information from the test set while training. After fitting the imputer, same median values have been applied to both the training and test data, ensuring consistency in how missing values are handled."
   ]
  },
  {
   "cell_type": "markdown",
   "metadata": {},
   "source": [
    "#### Engineering missing values in categorical variables"
   ]
  },
  {
   "cell_type": "code",
   "execution_count": 61,
   "metadata": {},
   "outputs": [
    {
     "name": "stdout",
     "output_type": "stream",
     "text": [
      "cuisine     0\n",
      "subzone     0\n",
      "type       19\n",
      "dtype: int64\n"
     ]
    }
   ],
   "source": [
    "#checking the missing values in of categorical variables in train set\n",
    "print(X_train[cat_features].isnull().sum())"
   ]
  },
  {
   "cell_type": "code",
   "execution_count": 62,
   "metadata": {},
   "outputs": [
    {
     "name": "stdout",
     "output_type": "stream",
     "text": [
      "cuisine    0\n",
      "subzone    0\n",
      "type       2\n",
      "dtype: int64\n"
     ]
    }
   ],
   "source": [
    "#checking the missing values in of categorical variables in test set\n",
    "print(X_test[cat_features].isnull().sum())"
   ]
  },
  {
   "cell_type": "code",
   "execution_count": 63,
   "metadata": {},
   "outputs": [],
   "source": [
    "#droping the observations that has null values in \"type\" variable\n",
    "X_train = X_train.dropna(subset=['type'])\n",
    "X_test = X_test.dropna(subset=['type'])\n"
   ]
  },
  {
   "cell_type": "code",
   "execution_count": 64,
   "metadata": {},
   "outputs": [],
   "source": [
    "y_train = y_train.loc[X_train.index]\n",
    "y_test = y_test.loc[X_test.index]"
   ]
  },
  {
   "cell_type": "markdown",
   "metadata": {},
   "source": [
    "The target variables y_train and y_test were revised to match the row numbers from X_train and X_test, respectively, after the removal of those observations with missing value sets in the 'type' variable. This realignment will make sure the indices of the target variables match up correctly with the indices of the feature sets. But by re-indexing y_train and y_test using y_train.loc[X_train.index] and y_test.loc[X_test.index], we are keeping the features and target variable aligned which this is crucial for proper modeling and accurate model evaluation."
   ]
  },
  {
   "cell_type": "code",
   "execution_count": 65,
   "metadata": {},
   "outputs": [
    {
     "name": "stdout",
     "output_type": "stream",
     "text": [
      "New shape of X_train after dropping rows with NaN in 'type': (5728, 6)\n",
      "New shape of X_test after dropping rows with NaN in 'type': (1435, 6)\n"
     ]
    }
   ],
   "source": [
    "# Check the new shape after dropping rows\n",
    "print(f\"New shape of X_train after dropping rows with NaN in 'type': {X_train.shape}\")\n",
    "print(f\"New shape of X_test after dropping rows with NaN in 'type': {X_test.shape}\")"
   ]
  },
  {
   "cell_type": "code",
   "execution_count": 66,
   "metadata": {},
   "outputs": [
    {
     "name": "stdout",
     "output_type": "stream",
     "text": [
      "cuisine    0\n",
      "subzone    0\n",
      "type       0\n",
      "dtype: int64\n"
     ]
    }
   ],
   "source": [
    "#checking the missing values in of categorical variables in train set\n",
    "print(X_train[cat_features].isnull().sum())"
   ]
  },
  {
   "cell_type": "code",
   "execution_count": 67,
   "metadata": {},
   "outputs": [
    {
     "name": "stdout",
     "output_type": "stream",
     "text": [
      "cuisine    0\n",
      "subzone    0\n",
      "type       0\n",
      "dtype: int64\n"
     ]
    }
   ],
   "source": [
    "#checking the missing values in of categorical variables in test set\n",
    "print(X_test[cat_features].isnull().sum())"
   ]
  },
  {
   "cell_type": "markdown",
   "metadata": {},
   "source": [
    "#### Engineering outliers in numerical variables"
   ]
  },
  {
   "cell_type": "code",
   "execution_count": 68,
   "metadata": {},
   "outputs": [],
   "source": [
    "\n",
    "# Function to replace outliers with maximum values based on the upper bound\n",
    "def max_value(df_temp, variable, upper_bound):\n",
    "    return np.where(df_temp[variable] > upper_bound, upper_bound, df_temp[variable])\n",
    "\n",
    "# Dictionary to hold the calculated upper bounds for each column\n",
    "cols_with_outliers = {}\n",
    "\n",
    "# List of numerical columns in the dataset\n",
    "numerical_cols = X_train.select_dtypes(include=[np.number]).columns\n",
    "\n",
    "# Calculate the IQR for each numerical column and store the upper bounds\n",
    "for col in numerical_cols:\n",
    "    Q1 = X_train[col].quantile(0.25)\n",
    "    Q3 = X_train[col].quantile(0.75)\n",
    "    IQR = Q3 - Q1\n",
    "    \n",
    "    # Define the upper bound as Q3 + 1.5 * IQR (standard IQR rule)\n",
    "    upper_bound = Q3 + 1.5 * IQR\n",
    "    \n",
    "    # Store the upper bound in the dictionary\n",
    "    cols_with_outliers[col] = upper_bound\n",
    "\n",
    "# Apply the upper bounds to cap outliers in both X_train and X_test\n",
    "for df_temp in [X_train, X_test]:\n",
    "    for col in cols_with_outliers:\n",
    "        df_temp[col] = max_value(df_temp, col, cols_with_outliers[col])\n",
    " \n"
   ]
  },
  {
   "cell_type": "markdown",
   "metadata": {},
   "source": [
    "Now the outliers in both X_train and X_test have been capped based on the IQR method."
   ]
  },
  {
   "cell_type": "code",
   "execution_count": 69,
   "metadata": {},
   "outputs": [
    {
     "data": {
      "image/png": "[encoded data removed]",
      "text/plain": [
       "<Figure size 1500x1000 with 1 Axes>"
      ]
     },
     "metadata": {},
     "output_type": "display_data"
    }
   ],
   "source": [
    "#using seaborn library to plot elegant ones\n",
    "df_custom = X_train[[\"cost\",\"votes\",\"cost_2\"]]\n",
    "plt.figure(figsize=(15,10))\n",
    "ax = sns.boxplot(data=df_custom, orient=\"h\", palette=\"Set2\")"
   ]
  },
  {
   "cell_type": "markdown",
   "metadata": {},
   "source": [
    "#### Encoding the categorical variables"
   ]
  },
  {
   "cell_type": "code",
   "execution_count": 70,
   "metadata": {},
   "outputs": [
    {
     "name": "stdout",
     "output_type": "stream",
     "text": [
      "Shape of X_train_encoded: (5728, 529)\n",
      "Shape of X_test_encoded: (1435, 529)\n"
     ]
    },
    {
     "name": "stderr",
     "output_type": "stream",
     "text": [
      "c:\\Users\\rohit\\.conda\\envs\\myenv\\Lib\\site-packages\\sklearn\\preprocessing\\_encoders.py:242: UserWarning: Found unknown categories in columns [0] during transform. These unknown categories will be encoded as all zeros\n",
      "  warnings.warn(\n"
     ]
    }
   ],
   "source": [
    "\n",
    "\n",
    "# Converting 'cuisine' and 'type' columns from string format to list format\n",
    "X_train['cuisine'] = X_train['cuisine'].apply(lambda x: ast.literal_eval(x) if isinstance(x, str) else x)\n",
    "X_train['type'] = X_train['type'].apply(lambda x: ast.literal_eval(x) if isinstance(x, str) else x)\n",
    "X_test['cuisine'] = X_test['cuisine'].apply(lambda x: ast.literal_eval(x) if isinstance(x, str) else x)\n",
    "X_test['type'] = X_test['type'].apply(lambda x: ast.literal_eval(x) if isinstance(x, str) else x)\n",
    "\n",
    "# Normalizing the text to lowercase and removing unnecessary whitespaces\n",
    "X_train['cuisine'] = X_train['cuisine'].apply(lambda lst: [item.strip().lower() for item in lst])\n",
    "X_train['type'] = X_train['type'].apply(lambda lst: [item.strip().lower() for item in lst])\n",
    "X_test['cuisine'] = X_test['cuisine'].apply(lambda lst: [item.strip().lower() for item in lst])\n",
    "X_test['type'] = X_test['type'].apply(lambda lst: [item.strip().lower() for item in lst])\n",
    "\n",
    "# Selecting the top 25 most frequent cuisines and top 10 business types\n",
    "all_cuisines = [cuisine for sublist in X_train['cuisine'] for cuisine in sublist]\n",
    "top_25_cuisines = [cuisine for cuisine, _ in Counter(all_cuisines).most_common(25)]\n",
    "all_types = [type_ for sublist in X_train['type'] for type_ in sublist]\n",
    "top_10_types = [type_ for type_, _ in Counter(all_types).most_common(10)]\n",
    "\n",
    "# Replacing less popular cuisines and types with 'other_cuisines' and 'other_type'\n",
    "X_train['cuisine'] = X_train['cuisine'].apply(lambda lst: [cuisine if cuisine in top_25_cuisines else 'other_cuisines' for cuisine in lst])\n",
    "X_test['cuisine'] = X_test['cuisine'].apply(lambda lst: [cuisine if cuisine in top_25_cuisines else 'other_cuisines' for cuisine in lst])\n",
    "X_train['type'] = X_train['type'].apply(lambda lst: [type_ if type_ in top_10_types else 'other_type' for type_ in lst])\n",
    "X_test['type'] = X_test['type'].apply(lambda lst: [type_ if type_ in top_10_types else 'other_type' for type_ in lst])\n",
    "\n",
    "# Encoding 'cuisine' and 'type' into binary columns using MultiLabelBinarizer\n",
    "mlb_cuisine = MultiLabelBinarizer()\n",
    "mlb_type = MultiLabelBinarizer()\n",
    "X_train_cuisine_encoded = pd.DataFrame(mlb_cuisine.fit_transform(X_train['cuisine']), columns=mlb_cuisine.classes_, index=X_train.index)\n",
    "X_test_cuisine_encoded = pd.DataFrame(mlb_cuisine.transform(X_test['cuisine']), columns=mlb_cuisine.classes_, index=X_test.index)\n",
    "X_train_type_encoded = pd.DataFrame(mlb_type.fit_transform(X_train['type']), columns=mlb_type.classes_, index=X_train.index)\n",
    "X_test_type_encoded = pd.DataFrame(mlb_type.transform(X_test['type']), columns=mlb_type.classes_, index=X_test.index)\n",
    "\n",
    "# One-hot encoding the 'subzone' column and converting it into a DataFrame\n",
    "onehot_encoder = OneHotEncoder(sparse_output=False, drop='first', handle_unknown='ignore')\n",
    "subzone_encoded_train = onehot_encoder.fit_transform(X_train[['subzone']])\n",
    "subzone_encoded_test = onehot_encoder.transform(X_test[['subzone']])\n",
    "subzone_encoded_train_df = pd.DataFrame(subzone_encoded_train, columns=onehot_encoder.get_feature_names_out(['subzone']), index=X_train.index)\n",
    "subzone_encoded_test_df = pd.DataFrame(subzone_encoded_test, columns=onehot_encoder.get_feature_names_out(['subzone']), index=X_test.index)\n",
    "\n",
    "# Combining all encoded columns back into the original datasets\n",
    "X_train_encoded = pd.concat([X_train, X_train_cuisine_encoded, X_train_type_encoded, subzone_encoded_train_df], axis=1)\n",
    "X_test_encoded = pd.concat([X_test, X_test_cuisine_encoded, X_test_type_encoded, subzone_encoded_test_df], axis=1)\n",
    "\n",
    "# Dropping the original 'cuisine', 'type', and 'subzone' columns from the encoded datasets\n",
    "X_train_encoded.drop(columns=['cuisine', 'type', 'subzone'], inplace=True)\n",
    "X_test_encoded.drop(columns=['cuisine', 'type', 'subzone'], inplace=True)\n",
    "\n",
    "# Displaying the final shapes of the transformed datasets\n",
    "print(f\"Shape of X_train_encoded: {X_train_encoded.shape}\")\n",
    "print(f\"Shape of X_test_encoded: {X_test_encoded.shape}\")\n"
   ]
  },
  {
   "cell_type": "markdown",
   "metadata": {},
   "source": [
    "This feature engineering approach rotation provides as input a more structured format of these complex categorical variables for modeling. Categorical columns, cuisine, type, and subzone are pre-processed: strings are transformed to lists and all makings are changed to lower case for consistency. In order to reduce the noise and prevent overfitting, only cuisines from the top 25 popularity and business types from the top 10 frequency are selected. Other rare categories are grouped into other_cuisines and labels of other_type, reducing high cardinality in these features.\n",
    "\n",
    "Cuisine and type are encoded into separate binary columns using MultiLabelBinarizer to represent each category in the selected top categories. Subzone categorical values are handled using a one-hot encoding technique to ensure each unique subzone is represented without redundancy. The last step is then to concatenate the encoded columns back into the original dataset, replacing the original columns. This process does not only simplify the feature space, but also retains important information, hence making the data more manageable and effective for machine learning models."
   ]
  },
  {
   "cell_type": "markdown",
   "metadata": {},
   "source": [
    " This strategy of choosing the best categories and grouping those that are less frequent works effectively in reducing overfitting, hence balancing model complexity with the retention of information. The infrequent categories are grouped together to avoid diluting noise in the influence of the main categories. MultiLabelBinarizer and OneHotEncoder are applied to ensure that all categorical variables will be numerically transformed to a format readable by machine learning algorithms to enhance overall performance and interpretability."
   ]
  },
  {
   "cell_type": "markdown",
   "metadata": {},
   "source": [
    "#### feature scaling or standardiztion"
   ]
  },
  {
   "cell_type": "code",
   "execution_count": 71,
   "metadata": {},
   "outputs": [
    {
     "name": "stdout",
     "output_type": "stream",
     "text": [
      "(5728, 529)\n",
      "(1435, 529)\n"
     ]
    }
   ],
   "source": [
    "\n",
    "# Initialize StandardScaler\n",
    "scaler = StandardScaler()\n",
    "\n",
    "# Fit and transform the numeric columns in X_train, and transform in X_test\n",
    "X_train_encoded[num_features] = scaler.fit_transform(X_train[num_features])\n",
    "X_test_encoded[num_features] = scaler.transform(X_test[num_features])\n",
    "\n",
    "# Check the processed datasets\n",
    "print(X_train_encoded.shape)\n",
    "print(X_test_encoded.shape)"
   ]
  },
  {
   "cell_type": "markdown",
   "metadata": {},
   "source": [
    "### 4.2 Linear Regression"
   ]
  },
  {
   "cell_type": "code",
   "execution_count": 72,
   "metadata": {},
   "outputs": [],
   "source": [
    "model_regression_1=LinearRegression()\n"
   ]
  },
  {
   "cell_type": "code",
   "execution_count": 73,
   "metadata": {},
   "outputs": [
    {
     "data": {
      "text/html": [
       "<style>#sk-container-id-2 {\n",
       "  /* Definition of color scheme common for light and dark mode */\n",
       "  --sklearn-color-text: black;\n",
       "  --sklearn-color-line: gray;\n",
       "  /* Definition of color scheme for unfitted estimators */\n",
       "  --sklearn-color-unfitted-level-0: #fff5e6;\n",
       "  --sklearn-color-unfitted-level-1: #f6e4d2;\n",
       "  --sklearn-color-unfitted-level-2: #ffe0b3;\n",
       "  --sklearn-color-unfitted-level-3: chocolate;\n",
       "  /* Definition of color scheme for fitted estimators */\n",
       "  --sklearn-color-fitted-level-0: #f0f8ff;\n",
       "  --sklearn-color-fitted-level-1: #d4ebff;\n",
       "  --sklearn-color-fitted-level-2: #b3dbfd;\n",
       "  --sklearn-color-fitted-level-3: cornflowerblue;\n",
       "\n",
       "  /* Specific color for light theme */\n",
       "  --sklearn-color-text-on-default-background: var(--sg-text-color, var(--theme-code-foreground, var(--jp-content-font-color1, black)));\n",
       "  --sklearn-color-background: var(--sg-background-color, var(--theme-background, var(--jp-layout-color0, white)));\n",
       "  --sklearn-color-border-box: var(--sg-text-color, var(--theme-code-foreground, var(--jp-content-font-color1, black)));\n",
       "  --sklearn-color-icon: #696969;\n",
       "\n",
       "  @media (prefers-color-scheme: dark) {\n",
       "    /* Redefinition of color scheme for dark theme */\n",
       "    --sklearn-color-text-on-default-background: var(--sg-text-color, var(--theme-code-foreground, var(--jp-content-font-color1, white)));\n",
       "    --sklearn-color-background: var(--sg-background-color, var(--theme-background, var(--jp-layout-color0, #111)));\n",
       "    --sklearn-color-border-box: var(--sg-text-color, var(--theme-code-foreground, var(--jp-content-font-color1, white)));\n",
       "    --sklearn-color-icon: #878787;\n",
       "  }\n",
       "}\n",
       "\n",
       "#sk-container-id-2 {\n",
       "  color: var(--sklearn-color-text);\n",
       "}\n",
       "\n",
       "#sk-container-id-2 pre {\n",
       "  padding: 0;\n",
       "}\n",
       "\n",
       "#sk-container-id-2 input.sk-hidden--visually {\n",
       "  border: 0;\n",
       "  clip: rect(1px 1px 1px 1px);\n",
       "  clip: rect(1px, 1px, 1px, 1px);\n",
       "  height: 1px;\n",
       "  margin: -1px;\n",
       "  overflow: hidden;\n",
       "  padding: 0;\n",
       "  position: absolute;\n",
       "  width: 1px;\n",
       "}\n",
       "\n",
       "#sk-container-id-2 div.sk-dashed-wrapped {\n",
       "  border: 1px dashed var(--sklearn-color-line);\n",
       "  margin: 0 0.4em 0.5em 0.4em;\n",
       "  box-sizing: border-box;\n",
       "  padding-bottom: 0.4em;\n",
       "  background-color: var(--sklearn-color-background);\n",
       "}\n",
       "\n",
       "#sk-container-id-2 div.sk-container {\n",
       "  /* jupyter's `normalize.less` sets `[hidden] { display: none; }`\n",
       "     but bootstrap.min.css set `[hidden] { display: none !important; }`\n",
       "     so we also need the `!important` here to be able to override the\n",
       "     default hidden behavior on the sphinx rendered scikit-learn.org.\n",
       "     See: https://github.com/scikit-learn/scikit-learn/issues/21755 */\n",
       "  display: inline-block !important;\n",
       "  position: relative;\n",
       "}\n",
       "\n",
       "#sk-container-id-2 div.sk-text-repr-fallback {\n",
       "  display: none;\n",
       "}\n",
       "\n",
       "div.sk-parallel-item,\n",
       "div.sk-serial,\n",
       "div.sk-item {\n",
       "  /* draw centered vertical line to link estimators */\n",
       "  background-image: linear-gradient(var(--sklearn-color-text-on-default-background), var(--sklearn-color-text-on-default-background));\n",
       "  background-size: 2px 100%;\n",
       "  background-repeat: no-repeat;\n",
       "  background-position: center center;\n",
       "}\n",
       "\n",
       "/* Parallel-specific style estimator block */\n",
       "\n",
       "#sk-container-id-2 div.sk-parallel-item::after {\n",
       "  content: \"\";\n",
       "  width: 100%;\n",
       "  border-bottom: 2px solid var(--sklearn-color-text-on-default-background);\n",
       "  flex-grow: 1;\n",
       "}\n",
       "\n",
       "#sk-container-id-2 div.sk-parallel {\n",
       "  display: flex;\n",
       "  align-items: stretch;\n",
       "  justify-content: center;\n",
       "  background-color: var(--sklearn-color-background);\n",
       "  position: relative;\n",
       "}\n",
       "\n",
       "#sk-container-id-2 div.sk-parallel-item {\n",
       "  display: flex;\n",
       "  flex-direction: column;\n",
       "}\n",
       "\n",
       "#sk-container-id-2 div.sk-parallel-item:first-child::after {\n",
       "  align-self: flex-end;\n",
       "  width: 50%;\n",
       "}\n",
       "\n",
       "#sk-container-id-2 div.sk-parallel-item:last-child::after {\n",
       "  align-self: flex-start;\n",
       "  width: 50%;\n",
       "}\n",
       "\n",
       "#sk-container-id-2 div.sk-parallel-item:only-child::after {\n",
       "  width: 0;\n",
       "}\n",
       "\n",
       "/* Serial-specific style estimator block */\n",
       "\n",
       "#sk-container-id-2 div.sk-serial {\n",
       "  display: flex;\n",
       "  flex-direction: column;\n",
       "  align-items: center;\n",
       "  background-color: var(--sklearn-color-background);\n",
       "  padding-right: 1em;\n",
       "  padding-left: 1em;\n",
       "}\n",
       "\n",
       "\n",
       "/* Toggleable style: style used for estimator/Pipeline/ColumnTransformer box that is\n",
       "clickable and can be expanded/collapsed.\n",
       "- Pipeline and ColumnTransformer use this feature and define the default style\n",
       "- Estimators will overwrite some part of the style using the `sk-estimator` class\n",
       "*/\n",
       "\n",
       "/* Pipeline and ColumnTransformer style (default) */\n",
       "\n",
       "#sk-container-id-2 div.sk-toggleable {\n",
       "  /* Default theme specific background. It is overwritten whether we have a\n",
       "  specific estimator or a Pipeline/ColumnTransformer */\n",
       "  background-color: var(--sklearn-color-background);\n",
       "}\n",
       "\n",
       "/* Toggleable label */\n",
       "#sk-container-id-2 label.sk-toggleable__label {\n",
       "  cursor: pointer;\n",
       "  display: block;\n",
       "  width: 100%;\n",
       "  margin-bottom: 0;\n",
       "  padding: 0.5em;\n",
       "  box-sizing: border-box;\n",
       "  text-align: center;\n",
       "}\n",
       "\n",
       "#sk-container-id-2 label.sk-toggleable__label-arrow:before {\n",
       "  /* Arrow on the left of the label */\n",
       "  content: \"▸\";\n",
       "  float: left;\n",
       "  margin-right: 0.25em;\n",
       "  color: var(--sklearn-color-icon);\n",
       "}\n",
       "\n",
       "#sk-container-id-2 label.sk-toggleable__label-arrow:hover:before {\n",
       "  color: var(--sklearn-color-text);\n",
       "}\n",
       "\n",
       "/* Toggleable content - dropdown */\n",
       "\n",
       "#sk-container-id-2 div.sk-toggleable__content {\n",
       "  max-height: 0;\n",
       "  max-width: 0;\n",
       "  overflow: hidden;\n",
       "  text-align: left;\n",
       "  /* unfitted */\n",
       "  background-color: var(--sklearn-color-unfitted-level-0);\n",
       "}\n",
       "\n",
       "#sk-container-id-2 div.sk-toggleable__content.fitted {\n",
       "  /* fitted */\n",
       "  background-color: var(--sklearn-color-fitted-level-0);\n",
       "}\n",
       "\n",
       "#sk-container-id-2 div.sk-toggleable__content pre {\n",
       "  margin: 0.2em;\n",
       "  border-radius: 0.25em;\n",
       "  color: var(--sklearn-color-text);\n",
       "  /* unfitted */\n",
       "  background-color: var(--sklearn-color-unfitted-level-0);\n",
       "}\n",
       "\n",
       "#sk-container-id-2 div.sk-toggleable__content.fitted pre {\n",
       "  /* unfitted */\n",
       "  background-color: var(--sklearn-color-fitted-level-0);\n",
       "}\n",
       "\n",
       "#sk-container-id-2 input.sk-toggleable__control:checked~div.sk-toggleable__content {\n",
       "  /* Expand drop-down */\n",
       "  max-height: 200px;\n",
       "  max-width: 100%;\n",
       "  overflow: auto;\n",
       "}\n",
       "\n",
       "#sk-container-id-2 input.sk-toggleable__control:checked~label.sk-toggleable__label-arrow:before {\n",
       "  content: \"▾\";\n",
       "}\n",
       "\n",
       "/* Pipeline/ColumnTransformer-specific style */\n",
       "\n",
       "#sk-container-id-2 div.sk-label input.sk-toggleable__control:checked~label.sk-toggleable__label {\n",
       "  color: var(--sklearn-color-text);\n",
       "  background-color: var(--sklearn-color-unfitted-level-2);\n",
       "}\n",
       "\n",
       "#sk-container-id-2 div.sk-label.fitted input.sk-toggleable__control:checked~label.sk-toggleable__label {\n",
       "  background-color: var(--sklearn-color-fitted-level-2);\n",
       "}\n",
       "\n",
       "/* Estimator-specific style */\n",
       "\n",
       "/* Colorize estimator box */\n",
       "#sk-container-id-2 div.sk-estimator input.sk-toggleable__control:checked~label.sk-toggleable__label {\n",
       "  /* unfitted */\n",
       "  background-color: var(--sklearn-color-unfitted-level-2);\n",
       "}\n",
       "\n",
       "#sk-container-id-2 div.sk-estimator.fitted input.sk-toggleable__control:checked~label.sk-toggleable__label {\n",
       "  /* fitted */\n",
       "  background-color: var(--sklearn-color-fitted-level-2);\n",
       "}\n",
       "\n",
       "#sk-container-id-2 div.sk-label label.sk-toggleable__label,\n",
       "#sk-container-id-2 div.sk-label label {\n",
       "  /* The background is the default theme color */\n",
       "  color: var(--sklearn-color-text-on-default-background);\n",
       "}\n",
       "\n",
       "/* On hover, darken the color of the background */\n",
       "#sk-container-id-2 div.sk-label:hover label.sk-toggleable__label {\n",
       "  color: var(--sklearn-color-text);\n",
       "  background-color: var(--sklearn-color-unfitted-level-2);\n",
       "}\n",
       "\n",
       "/* Label box, darken color on hover, fitted */\n",
       "#sk-container-id-2 div.sk-label.fitted:hover label.sk-toggleable__label.fitted {\n",
       "  color: var(--sklearn-color-text);\n",
       "  background-color: var(--sklearn-color-fitted-level-2);\n",
       "}\n",
       "\n",
       "/* Estimator label */\n",
       "\n",
       "#sk-container-id-2 div.sk-label label {\n",
       "  font-family: monospace;\n",
       "  font-weight: bold;\n",
       "  display: inline-block;\n",
       "  line-height: 1.2em;\n",
       "}\n",
       "\n",
       "#sk-container-id-2 div.sk-label-container {\n",
       "  text-align: center;\n",
       "}\n",
       "\n",
       "/* Estimator-specific */\n",
       "#sk-container-id-2 div.sk-estimator {\n",
       "  font-family: monospace;\n",
       "  border: 1px dotted var(--sklearn-color-border-box);\n",
       "  border-radius: 0.25em;\n",
       "  box-sizing: border-box;\n",
       "  margin-bottom: 0.5em;\n",
       "  /* unfitted */\n",
       "  background-color: var(--sklearn-color-unfitted-level-0);\n",
       "}\n",
       "\n",
       "#sk-container-id-2 div.sk-estimator.fitted {\n",
       "  /* fitted */\n",
       "  background-color: var(--sklearn-color-fitted-level-0);\n",
       "}\n",
       "\n",
       "/* on hover */\n",
       "#sk-container-id-2 div.sk-estimator:hover {\n",
       "  /* unfitted */\n",
       "  background-color: var(--sklearn-color-unfitted-level-2);\n",
       "}\n",
       "\n",
       "#sk-container-id-2 div.sk-estimator.fitted:hover {\n",
       "  /* fitted */\n",
       "  background-color: var(--sklearn-color-fitted-level-2);\n",
       "}\n",
       "\n",
       "/* Specification for estimator info (e.g. \"i\" and \"?\") */\n",
       "\n",
       "/* Common style for \"i\" and \"?\" */\n",
       "\n",
       ".sk-estimator-doc-link,\n",
       "a:link.sk-estimator-doc-link,\n",
       "a:visited.sk-estimator-doc-link {\n",
       "  float: right;\n",
       "  font-size: smaller;\n",
       "  line-height: 1em;\n",
       "  font-family: monospace;\n",
       "  background-color: var(--sklearn-color-background);\n",
       "  border-radius: 1em;\n",
       "  height: 1em;\n",
       "  width: 1em;\n",
       "  text-decoration: none !important;\n",
       "  margin-left: 1ex;\n",
       "  /* unfitted */\n",
       "  border: var(--sklearn-color-unfitted-level-1) 1pt solid;\n",
       "  color: var(--sklearn-color-unfitted-level-1);\n",
       "}\n",
       "\n",
       ".sk-estimator-doc-link.fitted,\n",
       "a:link.sk-estimator-doc-link.fitted,\n",
       "a:visited.sk-estimator-doc-link.fitted {\n",
       "  /* fitted */\n",
       "  border: var(--sklearn-color-fitted-level-1) 1pt solid;\n",
       "  color: var(--sklearn-color-fitted-level-1);\n",
       "}\n",
       "\n",
       "/* On hover */\n",
       "div.sk-estimator:hover .sk-estimator-doc-link:hover,\n",
       ".sk-estimator-doc-link:hover,\n",
       "div.sk-label-container:hover .sk-estimator-doc-link:hover,\n",
       ".sk-estimator-doc-link:hover {\n",
       "  /* unfitted */\n",
       "  background-color: var(--sklearn-color-unfitted-level-3);\n",
       "  color: var(--sklearn-color-background);\n",
       "  text-decoration: none;\n",
       "}\n",
       "\n",
       "div.sk-estimator.fitted:hover .sk-estimator-doc-link.fitted:hover,\n",
       ".sk-estimator-doc-link.fitted:hover,\n",
       "div.sk-label-container:hover .sk-estimator-doc-link.fitted:hover,\n",
       ".sk-estimator-doc-link.fitted:hover {\n",
       "  /* fitted */\n",
       "  background-color: var(--sklearn-color-fitted-level-3);\n",
       "  color: var(--sklearn-color-background);\n",
       "  text-decoration: none;\n",
       "}\n",
       "\n",
       "/* Span, style for the box shown on hovering the info icon */\n",
       ".sk-estimator-doc-link span {\n",
       "  display: none;\n",
       "  z-index: 9999;\n",
       "  position: relative;\n",
       "  font-weight: normal;\n",
       "  right: .2ex;\n",
       "  padding: .5ex;\n",
       "  margin: .5ex;\n",
       "  width: min-content;\n",
       "  min-width: 20ex;\n",
       "  max-width: 50ex;\n",
       "  color: var(--sklearn-color-text);\n",
       "  box-shadow: 2pt 2pt 4pt #999;\n",
       "  /* unfitted */\n",
       "  background: var(--sklearn-color-unfitted-level-0);\n",
       "  border: .5pt solid var(--sklearn-color-unfitted-level-3);\n",
       "}\n",
       "\n",
       ".sk-estimator-doc-link.fitted span {\n",
       "  /* fitted */\n",
       "  background: var(--sklearn-color-fitted-level-0);\n",
       "  border: var(--sklearn-color-fitted-level-3);\n",
       "}\n",
       "\n",
       ".sk-estimator-doc-link:hover span {\n",
       "  display: block;\n",
       "}\n",
       "\n",
       "/* \"?\"-specific style due to the `<a>` HTML tag */\n",
       "\n",
       "#sk-container-id-2 a.estimator_doc_link {\n",
       "  float: right;\n",
       "  font-size: 1rem;\n",
       "  line-height: 1em;\n",
       "  font-family: monospace;\n",
       "  background-color: var(--sklearn-color-background);\n",
       "  border-radius: 1rem;\n",
       "  height: 1rem;\n",
       "  width: 1rem;\n",
       "  text-decoration: none;\n",
       "  /* unfitted */\n",
       "  color: var(--sklearn-color-unfitted-level-1);\n",
       "  border: var(--sklearn-color-unfitted-level-1) 1pt solid;\n",
       "}\n",
       "\n",
       "#sk-container-id-2 a.estimator_doc_link.fitted {\n",
       "  /* fitted */\n",
       "  border: var(--sklearn-color-fitted-level-1) 1pt solid;\n",
       "  color: var(--sklearn-color-fitted-level-1);\n",
       "}\n",
       "\n",
       "/* On hover */\n",
       "#sk-container-id-2 a.estimator_doc_link:hover {\n",
       "  /* unfitted */\n",
       "  background-color: var(--sklearn-color-unfitted-level-3);\n",
       "  color: var(--sklearn-color-background);\n",
       "  text-decoration: none;\n",
       "}\n",
       "\n",
       "#sk-container-id-2 a.estimator_doc_link.fitted:hover {\n",
       "  /* fitted */\n",
       "  background-color: var(--sklearn-color-fitted-level-3);\n",
       "}\n",
       "</style><div id=\"sk-container-id-2\" class=\"sk-top-container\"><div class=\"sk-text-repr-fallback\"><pre>LinearRegression()</pre><b>In a Jupyter environment, please rerun this cell to show the HTML representation or trust the notebook. <br />On GitHub, the HTML representation is unable to render, please try loading this page with nbviewer.org.</b></div><div class=\"sk-container\" hidden><div class=\"sk-item\"><div class=\"sk-estimator fitted sk-toggleable\"><input class=\"sk-toggleable__control sk-hidden--visually\" id=\"sk-estimator-id-2\" type=\"checkbox\" checked><label for=\"sk-estimator-id-2\" class=\"sk-toggleable__label fitted sk-toggleable__label-arrow fitted\">&nbsp;&nbsp;LinearRegression<a class=\"sk-estimator-doc-link fitted\" rel=\"noreferrer\" target=\"_blank\" href=\"https://scikit-learn.org/1.5/modules/generated/sklearn.linear_model.LinearRegression.html\">?<span>Documentation for LinearRegression</span></a><span class=\"sk-estimator-doc-link fitted\">i<span>Fitted</span></span></label><div class=\"sk-toggleable__content fitted\"><pre>LinearRegression()</pre></div> </div></div></div></div>"
      ],
      "text/plain": [
       "LinearRegression()"
      ]
     },
     "execution_count": 73,
     "metadata": {},
     "output_type": "execute_result"
    }
   ],
   "source": [
    "model_regression_1.fit(X_train_encoded,y_train)\n"
   ]
  },
  {
   "cell_type": "code",
   "execution_count": 74,
   "metadata": {},
   "outputs": [],
   "source": [
    "y_train_pred = model_regression_1.predict(X_train_encoded)\n",
    "y_test_pred = model_regression_1.predict(X_test_encoded)\n"
   ]
  },
  {
   "cell_type": "code",
   "execution_count": 75,
   "metadata": {},
   "outputs": [],
   "source": [
    "model_train_mse_lr=mean_squared_error(y_train, y_train_pred)\n",
    "model_test_mse_lr=mean_squared_error(y_test, y_test_pred)\n"
   ]
  },
  {
   "cell_type": "code",
   "execution_count": 76,
   "metadata": {},
   "outputs": [],
   "source": [
    "\n",
    "# Calculate Root Mean Squared Error\n",
    "rmse_train = np.sqrt(model_train_mse_lr)\n",
    "rmse_test = np.sqrt(model_test_mse_lr)"
   ]
  },
  {
   "cell_type": "code",
   "execution_count": 77,
   "metadata": {},
   "outputs": [],
   "source": [
    "#calculate r2 score\n",
    "r2_score_model1=r2_score(y_test, y_test_pred)\n"
   ]
  },
  {
   "cell_type": "code",
   "execution_count": 78,
   "metadata": {},
   "outputs": [
    {
     "name": "stdout",
     "output_type": "stream",
     "text": [
      "Model performance for Training set\n",
      "Mean Squared Error: 0.0789\n",
      "Root Mean Squared Error: 0.2809\n",
      "\n",
      "\n",
      "-----------------------------------------------\n",
      "\n",
      "\n",
      "Model performance for Testing set\n",
      "Mean Squared Error: 0.08779062262615601\n",
      "Root Mean Squared Error: 0.2963\n",
      "R2 square: 0.5543\n"
     ]
    }
   ],
   "source": [
    "\n",
    "# Print results\n",
    "print('Model performance for Training set')\n",
    "print(\"Mean Squared Error: %.4f\" % model_train_mse_lr)\n",
    "print(\"Root Mean Squared Error: %.4f\" % rmse_train) \n",
    "print(\"\\n\")\n",
    "print(\"-----------------------------------------------\")\n",
    "print(\"\\n\")\n",
    "print('Model performance for Testing set')\n",
    "print(\"Mean Squared Error:\", format(model_test_mse_lr))\n",
    "print(\"Root Mean Squared Error: %.4f\" % rmse_test)\n",
    "print(\"R2 square: %.4f\" % r2_score_model1) "
   ]
  },
  {
   "cell_type": "code",
   "execution_count": 79,
   "metadata": {},
   "outputs": [
    {
     "name": "stdout",
     "output_type": "stream",
     "text": [
      "\n",
      "The model has a good fit.\n"
     ]
    }
   ],
   "source": [
    "\n",
    "# Check for overfitting or underfitting\n",
    "if rmse_train < rmse_test and (rmse_test - rmse_train) / rmse_train > 0.2:\n",
    "    print(\"\\nThe model is likely overfitting.\")\n",
    "elif rmse_train > rmse_test:\n",
    "    print(\"\\nThe model may be underfitting.\")\n",
    "else:\n",
    "    print(\"\\nThe model has a good fit.\")\n"
   ]
  },
  {
   "cell_type": "markdown",
   "metadata": {},
   "source": [
    "#### Overall Interpretaion:\n",
    "\n",
    "- The model has similar MSE and RMSE values for both training and testing sets, indicating good generalization.\n",
    "- The small difference in errors suggests that the model balances learning from the training data without overfitting.\n",
    "- The RMSE values (around 0.28–0.30) show that the model’s predictions are reasonably accurate.\n",
    "- There is potential to further reduce the errors through additional feature engineering or model optimization."
   ]
  },
  {
   "cell_type": "code",
   "execution_count": 80,
   "metadata": {},
   "outputs": [
    {
     "data": {
      "image/png": "[encoded data removed]",
      "text/plain": [
       "<Figure size 800x600 with 1 Axes>"
      ]
     },
     "metadata": {},
     "output_type": "display_data"
    }
   ],
   "source": [
    "# Create the scatterplot\n",
    "plt.figure(figsize=(8, 6))\n",
    "plt.scatter(y_test, y_test_pred, color='blue', edgecolors='k', alpha=0.6, s=80)\n",
    "plt.xlabel('Actual Values')\n",
    "plt.ylabel('Predicted Values')\n",
    "plt.title('Actual vs. Predicted Values')\n",
    "\n",
    "# Plot a reference line (perfect prediction line)\n",
    "max_val = max(max(y_test), max(y_test_pred))\n",
    "min_val = min(min(y_test), min(y_test_pred))\n",
    "plt.plot([min_val, max_val], [min_val, max_val], color='red', linestyle='--', linewidth=2)\n",
    "\n",
    "# Display the plot\n",
    "plt.grid(True)\n",
    "plt.show()"
   ]
  },
  {
   "cell_type": "markdown",
   "metadata": {},
   "source": [
    "Key insights:\n",
    "\n",
    "- Points generally follow an upward trend, indicating a positive correlation between actual and predicted values.\n",
    "\n",
    "- Many points are near the red diagonal (y = x), showing a reasonable fit for a linear model.\n",
    "\n",
    "- Error variance is fairly consistent, but there is a noticeable increase in scatter for higher values.\n",
    "\n",
    "- Slight pattern of increasing error variance as actual values increase.\n",
    "\n",
    "- Dense clusters around specific value ranges (e.g., 3.0 to 3.5), suggesting that the model may not capture variations well in those regions."
   ]
  },
  {
   "cell_type": "markdown",
   "metadata": {},
   "source": [
    "### 4.3 linear regression model using the Gradient Descent"
   ]
  },
  {
   "cell_type": "code",
   "execution_count": 88,
   "metadata": {},
   "outputs": [
    {
     "name": "stdout",
     "output_type": "stream",
     "text": [
      "Optimized coefficients (first 5 values): [ 0.26078675 -0.00706304  0.3342491  -0.00706304  0.0056449 ]\n"
     ]
    },
    {
     "data": {
      "image/png": "[encoded data removed]",
      "text/plain": [
       "<Figure size 640x480 with 1 Axes>"
      ]
     },
     "metadata": {},
     "output_type": "display_data"
    },
    {
     "name": "stdout",
     "output_type": "stream",
     "text": [
      "Mean Squared Error (MSE) for Gradient Descent Model on Test Data: 0.1157\n",
      "Root Mean Squared Error (RMSE) for Gradient Descent Model on Test Data: 0.3401\n",
      "R² Score for Gradient Descent Model on Test Data: 0.4866\n"
     ]
    }
   ],
   "source": [
    "\n",
    "# Convert DataFrames to NumPy arrays (if not already in numpy format)\n",
    "X_train = X_train_encoded if isinstance(X_train_encoded, np.ndarray) else X_train_encoded.to_numpy()\n",
    "X_test = X_test_encoded if isinstance(X_test_encoded, np.ndarray) else X_test_encoded.to_numpy()\n",
    "y_train = y_train.reshape(-1, 1) if isinstance(y_train, np.ndarray) else y_train.to_numpy().reshape(-1, 1)\n",
    "\n",
    "# Add Intercept Term (Column of Ones) to X_train and X_test\n",
    "X_train = np.hstack([np.ones((X_train.shape[0], 1)), X_train])\n",
    "X_test = np.hstack([np.ones((X_test.shape[0], 1)), X_test])\n",
    "\n",
    "# Initialize Parameters for Gradient Descent\n",
    "alpha = 0.01\n",
    "iterations = 1500\n",
    "theta = np.zeros((X_train.shape[1], 1))\n",
    "\n",
    "# Define Cost Function for Linear Regression\n",
    "def compute_cost(X, y, theta):\n",
    "    m = len(y)\n",
    "    predictions = X @ theta\n",
    "    cost = (1 / (2 * m)) * np.sum(np.square(predictions - y))\n",
    "    return cost\n",
    "\n",
    "# Implement Gradient Descent Algorithm\n",
    "def gradient_descent(X, y, theta, alpha, iterations):\n",
    "    m = len(y)\n",
    "    cost_history = []\n",
    "\n",
    "    for _ in range(iterations):\n",
    "        gradient = (1 / m) * (X.T @ (X @ theta - y))\n",
    "        theta = theta - alpha * gradient\n",
    "        cost = compute_cost(X, y, theta)\n",
    "        cost_history.append(cost)\n",
    "\n",
    "    return theta, cost_history\n",
    "\n",
    "# Run Gradient Descent and Get Optimized Parameters\n",
    "theta_optimized, cost_history = gradient_descent(X_train, y_train, theta, alpha, iterations)\n",
    "\n",
    "# Print the Final Theta Values (Optimized Coefficients)\n",
    "print(\"Optimized coefficients (first 5 values):\", theta_optimized[:5].flatten())\n",
    "\n",
    "# Plot the Cost History to Observe Convergence\n",
    "plt.plot(range(iterations), cost_history, color='blue')\n",
    "plt.title('Cost Function Convergence Over Iterations')\n",
    "plt.xlabel('Number of Iterations')\n",
    "plt.ylabel('Cost (Mean Squared Error)')\n",
    "plt.show()\n",
    "\n",
    "# Predict on Test Data Using the Optimized Parameters\n",
    "y_test_pred_gd = X_test @ theta_optimized\n",
    "\n",
    "# Calculate the MSE for the Gradient Descent Model on Test Data\n",
    "mse_gradient_descent = mean_squared_error(y_test, y_test_pred_gd)\n",
    "\n",
    "# Calculate the RMSE for the Gradient Descent Model on Test Data\n",
    "rmse_gradient_descent = np.sqrt(mse_gradient_descent)\n",
    "\n",
    "# Calculate the R² Score for the Gradient Descent Model on Test Data\n",
    "r2_gradient_descent = r2_score(y_test, y_test_pred_gd)\n",
    "\n",
    "# Print the Evaluation Metrics\n",
    "print(f\"Mean Squared Error (MSE) for Gradient Descent Model on Test Data: {mse_gradient_descent:.4f}\")\n",
    "print(f\"Root Mean Squared Error (RMSE) for Gradient Descent Model on Test Data: {rmse_gradient_descent:.4f}\")\n",
    "print(f\"R² Score for Gradient Descent Model on Test Data: {r2_gradient_descent:.4f}\")\n"
   ]
  },
  {
   "cell_type": "code",
   "execution_count": 82,
   "metadata": {},
   "outputs": [
    {
     "name": "stderr",
     "output_type": "stream",
     "text": [
      "c:\\Users\\rohit\\.conda\\envs\\myenv\\Lib\\site-packages\\sklearn\\utils\\validation.py:1339: DataConversionWarning: A column-vector y was passed when a 1d array was expected. Please change the shape of y to (n_samples, ), for example using ravel().\n",
      "  y = column_or_1d(y, warn=True)\n"
     ]
    },
    {
     "name": "stdout",
     "output_type": "stream",
     "text": [
      "Mean Squared Error (MSE) for SGDRegressor model on test data: 0.1911\n",
      "Root Mean Squared Error (RMSE) for SGDRegressor model on test data: 0.4371\n",
      "R² Score for SGDRegressor model on test data: 0.0299\n"
     ]
    }
   ],
   "source": [
    "\n",
    "# Create and train the model using SGD (Stochastic Gradient Descent)\n",
    "model_regression_2 = SGDRegressor(max_iter=1000, learning_rate='constant', eta0=0.000021)\n",
    "model_regression_2.fit(X_train_encoded, y_train)\n",
    "\n",
    "# Make predictions on the test set\n",
    "y_pred_sgd = model_regression_2.predict(X_test_encoded)\n",
    "\n",
    "# Calculate Mean Squared Error (MSE)\n",
    "mse_sgd = mean_squared_error(y_test, y_pred_sgd)\n",
    "\n",
    "# Calculate Root Mean Squared Error (RMSE)\n",
    "rmse_sgd = np.sqrt(mse_sgd)\n",
    "\n",
    "# Calculate R² Score\n",
    "r2_score_sgd = r2_score(y_test, y_pred_sgd)\n",
    "\n",
    "# Print the results\n",
    "print(f\"Mean Squared Error (MSE) for SGDRegressor model on test data: {mse_sgd:.4f}\")\n",
    "print(f\"Root Mean Squared Error (RMSE) for SGDRegressor model on test data: {rmse_sgd:.4f}\")\n",
    "print(f\"R² Score for SGDRegressor model on test data: {r2_score_sgd:.4f}\")"
   ]
  },
  {
   "cell_type": "markdown",
   "metadata": {},
   "source": [
    "In this implementation, the MSE is relatively high compared to the manually implemented gradient descent model, which might indicate that the learning rate (eta0) needs to be further optimized or additional regularization might be necessary to reduce errors."
   ]
  },
  {
   "cell_type": "code",
   "execution_count": 83,
   "metadata": {},
   "outputs": [
    {
     "name": "stdout",
     "output_type": "stream",
     "text": [
      "Mean Squared Error (Original Model): 0.0878\n",
      "Original Model performs better!\n"
     ]
    }
   ],
   "source": [
    "\n",
    "mse_original = mean_squared_error(y_test, y_test_pred)\n",
    "print(f\"Mean Squared Error (Original Model): {mse_original:.4f}\")\n",
    "\n",
    "# Compare the MSE values\n",
    "if mse_gradient_descent < mse_original:\n",
    "    print(\"Gradient Descent Model performs better!\")\n",
    "else:\n",
    "    print(\"Original Model performs better!\")\n"
   ]
  },
  {
   "cell_type": "markdown",
   "metadata": {},
   "source": [
    "### 4.4 Logistic Regression"
   ]
  },
  {
   "cell_type": "code",
   "execution_count": 84,
   "metadata": {},
   "outputs": [],
   "source": [
    "rating_scale = {\n",
    "    'Poor': 0,\n",
    "    'Average': 0,\n",
    "    'Good': 1,\n",
    "    'Very Good': 1,\n",
    "    'Excellent': 1\n",
    "}\n"
   ]
  },
  {
   "cell_type": "code",
   "execution_count": 90,
   "metadata": {},
   "outputs": [
    {
     "name": "stdout",
     "output_type": "stream",
     "text": [
      "Logistic Regression Model Accuracy: 0.8397\n",
      "\n",
      "Classification Report:\n",
      "                                    precision    recall  f1-score   support\n",
      "\n",
      "            Class 0 (Poor/Average)       0.84      0.93      0.88       943\n",
      "Class 1 (Good/Very Good/Excellent)       0.83      0.67      0.74       492\n",
      "\n",
      "                          accuracy                           0.84      1435\n",
      "                         macro avg       0.84      0.80      0.81      1435\n",
      "                      weighted avg       0.84      0.84      0.83      1435\n",
      "\n",
      "\n",
      "Confusion Matrix:\n",
      "[[876  67]\n",
      " [163 329]]\n"
     ]
    }
   ],
   "source": [
    "# Creating a binary target variable based on the `rating_text` column\n",
    "df['binary_rating'] = df['rating_text'].map(rating_scale)\n",
    "\n",
    "# Aligning `y_train` and `y_test` with indices of `X_train_encoded` and `X_test_encoded`\n",
    "y_train = df.loc[X_train_encoded.index, 'binary_rating']\n",
    "y_test = df.loc[X_test_encoded.index, 'binary_rating']\n",
    "\n",
    "# Building and training the logistic regression model\n",
    "model_classification_3 = LogisticRegression(random_state=0)\n",
    "model_classification_3.fit(X_train_encoded, y_train)\n",
    "\n",
    "# Predicting on test data\n",
    "y_test_pred = model_classification_3.predict(X_test_encoded)\n",
    "\n",
    "# Calculating and printing the model accuracy\n",
    "accuracy = accuracy_score(y_test, y_test_pred)\n",
    "print(f\"Logistic Regression Model Accuracy: {accuracy:.4f}\")\n",
    "\n",
    "# Displaying the classification report\n",
    "print(\"\\nClassification Report:\")\n",
    "print(classification_report(y_test, y_test_pred, target_names=['Class 0 (Poor/Average)', 'Class 1 (Good/Very Good/Excellent)']))\n",
    "\n",
    "# Showing the confusion matrix\n",
    "print(\"\\nConfusion Matrix:\")\n",
    "print(confusion_matrix(y_test, y_test_pred))\n"
   ]
  },
  {
   "cell_type": "markdown",
   "metadata": {},
   "source": [
    "#### Interpretation\n",
    "\n",
    "- The logistic regression model achieved an accuracy of 84.04% on the test dataset.\n",
    "- Class 0 (Poor/Average) Performance:\n",
    "\n",
    "Precision: 0.84 – Out of all the predictions made for Class 1, 84% were correct.\n",
    "Recall: 0.93 – The model was able to correctly identify 93% of the Class 1 instances.\n",
    "F1-Score: 0.88 – A balanced measure of precision and recall for Class 1\n",
    "\n",
    "- Class 1 (Good/Very Good/Excellent) Performance:\n",
    "\n",
    "Precision: 0.83 – Out of all predictions made for Class 2, 83% were accurate.\n",
    "Recall: 0.67 – The model correctly identified only 67% of the Class 2 instances.\n",
    "F1-Score: 0.74 – Lower F1-score compared to Class 1 due to relatively low recall."
   ]
  },
  {
   "cell_type": "markdown",
   "metadata": {},
   "source": [
    "### 4.5 Building other models"
   ]
  },
  {
   "cell_type": "code",
   "execution_count": 89,
   "metadata": {},
   "outputs": [
    {
     "name": "stdout",
     "output_type": "stream",
     "text": [
      "Model: Decision Tree\n",
      "Model performance for Training set:\n",
      "- Accuracy: 0.9997\n",
      "- Precision (Class 0): 0.9995\n",
      "- Precision (Class 1): 1.0000\n",
      "- Recall (Class 0): 1.0000\n",
      "- Recall (Class 1): 0.9990\n",
      "- F1 Score (Class 0): 0.9997\n",
      "- F1 Score (Class 1): 0.9995\n",
      "- Weighted Precision: 0.9997\n",
      "- Weighted Recall: 0.9997\n",
      "- Weighted F1 Score: 0.9997\n",
      "----------------------------------\n",
      "Model performance for Test set:\n",
      "- Accuracy: 0.8355\n",
      "- Precision (Class 0): 0.8741\n",
      "- Precision (Class 1): 0.7612\n",
      "- Recall (Class 0): 0.8759\n",
      "- Recall (Class 1): 0.7581\n",
      "- F1 Score (Class 0): 0.8750\n",
      "- F1 Score (Class 1): 0.7597\n",
      "- Weighted Precision: 0.8354\n",
      "- Weighted Recall: 0.8355\n",
      "- Weighted F1 Score: 0.8355\n",
      "===================================\n",
      "\n",
      "\n"
     ]
    },
    {
     "name": "stderr",
     "output_type": "stream",
     "text": [
      "c:\\Users\\rohit\\.conda\\envs\\myenv\\Lib\\site-packages\\sklearn\\base.py:1473: DataConversionWarning: A column-vector y was passed when a 1d array was expected. Please change the shape of y to (n_samples,), for example using ravel().\n",
      "  return fit_method(estimator, *args, **kwargs)\n"
     ]
    },
    {
     "name": "stdout",
     "output_type": "stream",
     "text": [
      "Model: Random Forest\n",
      "Model performance for Training set:\n",
      "- Accuracy: 0.9995\n",
      "- Precision (Class 0): 0.9997\n",
      "- Precision (Class 1): 0.9990\n",
      "- Recall (Class 0): 0.9995\n",
      "- Recall (Class 1): 0.9995\n",
      "- F1 Score (Class 0): 0.9996\n",
      "- F1 Score (Class 1): 0.9992\n",
      "- Weighted Precision: 0.9995\n",
      "- Weighted Recall: 0.9995\n",
      "- Weighted F1 Score: 0.9995\n",
      "----------------------------------\n",
      "Model performance for Test set:\n",
      "- Accuracy: 0.8585\n",
      "- Precision (Class 0): 0.8978\n",
      "- Precision (Class 1): 0.7861\n",
      "- Recall (Class 0): 0.8855\n",
      "- Recall (Class 1): 0.8069\n",
      "- F1 Score (Class 0): 0.8916\n",
      "- F1 Score (Class 1): 0.7964\n",
      "- Weighted Precision: 0.8595\n",
      "- Weighted Recall: 0.8585\n",
      "- Weighted F1 Score: 0.8590\n",
      "===================================\n",
      "\n",
      "\n"
     ]
    },
    {
     "name": "stderr",
     "output_type": "stream",
     "text": [
      "c:\\Users\\rohit\\.conda\\envs\\myenv\\Lib\\site-packages\\sklearn\\neighbors\\_classification.py:238: DataConversionWarning: A column-vector y was passed when a 1d array was expected. Please change the shape of y to (n_samples,), for example using ravel().\n",
      "  return self._fit(X, y)\n"
     ]
    },
    {
     "name": "stdout",
     "output_type": "stream",
     "text": [
      "Model: K-Neighbors Classifier\n",
      "Model performance for Training set:\n",
      "- Accuracy: 0.8829\n",
      "- Precision (Class 0): 0.8911\n",
      "- Precision (Class 1): 0.8647\n",
      "- Recall (Class 0): 0.9355\n",
      "- Recall (Class 1): 0.7829\n",
      "- F1 Score (Class 0): 0.9128\n",
      "- F1 Score (Class 1): 0.8218\n",
      "- Weighted Precision: 0.8820\n",
      "- Weighted Recall: 0.8829\n",
      "- Weighted F1 Score: 0.8814\n",
      "----------------------------------\n",
      "Model performance for Test set:\n",
      "- Accuracy: 0.8230\n",
      "- Precision (Class 0): 0.8435\n",
      "- Precision (Class 1): 0.7755\n",
      "- Recall (Class 0): 0.8971\n",
      "- Recall (Class 1): 0.6809\n",
      "- F1 Score (Class 0): 0.8695\n",
      "- F1 Score (Class 1): 0.7251\n",
      "- Weighted Precision: 0.8202\n",
      "- Weighted Recall: 0.8230\n",
      "- Weighted F1 Score: 0.8200\n",
      "===================================\n",
      "\n",
      "\n",
      "Model Comparison Summary:\n",
      "                    Model  Test Accuracy\n",
      "0           Decision Tree       0.835540\n",
      "1           Random Forest       0.858537\n",
      "2  K-Neighbors Classifier       0.822997\n"
     ]
    },
    {
     "data": {
      "image/png": "[encoded data removed]",
      "text/plain": [
       "<Figure size 1800x500 with 3 Axes>"
      ]
     },
     "metadata": {},
     "output_type": "display_data"
    }
   ],
   "source": [
    "\n",
    "\n",
    "# Defining a function to evaluate model performance for both classes\n",
    "def evaluate_classification_model(true, predicted):\n",
    "    # Calculate accuracy, precision, recall, and F1 for each class\n",
    "    accuracy = accuracy_score(true, predicted)\n",
    "    precision_per_class = precision_score(true, predicted, average=None)  # Precision for each class\n",
    "    recall_per_class = recall_score(true, predicted, average=None)  # Recall for each class\n",
    "    f1_per_class = f1_score(true, predicted, average=None)  # F1 score for each class\n",
    "\n",
    "    # Weighted average for overall model evaluation\n",
    "    precision_weighted = precision_score(true, predicted, average='weighted')\n",
    "    recall_weighted = recall_score(true, predicted, average='weighted')\n",
    "    f1_weighted = f1_score(true, predicted, average='weighted')\n",
    "\n",
    "    return (accuracy, precision_per_class, recall_per_class, f1_per_class,\n",
    "            precision_weighted, recall_weighted, f1_weighted)\n",
    "\n",
    "# Creating a dictionary of classification models with random_state set for reproducibility\n",
    "models = {\n",
    "    \"Decision Tree\": DecisionTreeClassifier(random_state=0),\n",
    "    \"Random Forest\": RandomForestClassifier(random_state=0, n_estimators=100),\n",
    "    \"K-Neighbors Classifier\": KNeighborsClassifier()\n",
    "}\n",
    "\n",
    "# Initializing lists to store model names and their corresponding accuracies\n",
    "model_list = []\n",
    "accuracy_list = []\n",
    "confusion_matrices = []  # To store confusion matrices\n",
    "\n",
    "# Iterating through each model, fitting, and evaluating performance\n",
    "for model_name, model in models.items():\n",
    "    model.fit(X_train_encoded, y_train)  # Training the model\n",
    "    y_train_pred = model.predict(X_train_encoded)  # Predicting on training data\n",
    "    y_test_pred = model.predict(X_test_encoded)  # Predicting on test data\n",
    "\n",
    "    # Evaluate the model on training and test data\n",
    "    train_accuracy, train_precision_per_class, train_recall_per_class, train_f1_per_class, \\\n",
    "    train_precision_weighted, train_recall_weighted, train_f1_weighted = evaluate_classification_model(y_train, y_train_pred)\n",
    "\n",
    "    test_accuracy, test_precision_per_class, test_recall_per_class, test_f1_per_class, \\\n",
    "    test_precision_weighted, test_recall_weighted, test_f1_weighted = evaluate_classification_model(y_test, y_test_pred)\n",
    "\n",
    "    # Calculate and store confusion matrix\n",
    "    cm = confusion_matrix(y_test, y_test_pred)\n",
    "    confusion_matrices.append(cm)  # Store confusion matrix for later visualization\n",
    "\n",
    "    # Append model names and accuracies to lists\n",
    "    model_list.append(model_name)\n",
    "    accuracy_list.append(test_accuracy)\n",
    "\n",
    "    # Print evaluation metrics for each class separately and weighted average\n",
    "    print(f'Model: {model_name}')\n",
    "    print('Model performance for Training set:')\n",
    "    print(f\"- Accuracy: {train_accuracy:.4f}\")\n",
    "    print(f\"- Precision (Class 0): {train_precision_per_class[0]:.4f}\")\n",
    "    print(f\"- Precision (Class 1): {train_precision_per_class[1]:.4f}\")\n",
    "    print(f\"- Recall (Class 0): {train_recall_per_class[0]:.4f}\")\n",
    "    print(f\"- Recall (Class 1): {train_recall_per_class[1]:.4f}\")\n",
    "    print(f\"- F1 Score (Class 0): {train_f1_per_class[0]:.4f}\")\n",
    "    print(f\"- F1 Score (Class 1): {train_f1_per_class[1]:.4f}\")\n",
    "    print(f\"- Weighted Precision: {train_precision_weighted:.4f}\")\n",
    "    print(f\"- Weighted Recall: {train_recall_weighted:.4f}\")\n",
    "    print(f\"- Weighted F1 Score: {train_f1_weighted:.4f}\")\n",
    "    print('----------------------------------')\n",
    "    print('Model performance for Test set:')\n",
    "    print(f\"- Accuracy: {test_accuracy:.4f}\")\n",
    "    print(f\"- Precision (Class 0): {test_precision_per_class[0]:.4f}\")\n",
    "    print(f\"- Precision (Class 1): {test_precision_per_class[1]:.4f}\")\n",
    "    print(f\"- Recall (Class 0): {test_recall_per_class[0]:.4f}\")\n",
    "    print(f\"- Recall (Class 1): {test_recall_per_class[1]:.4f}\")\n",
    "    print(f\"- F1 Score (Class 0): {test_f1_per_class[0]:.4f}\")\n",
    "    print(f\"- F1 Score (Class 1): {test_f1_per_class[1]:.4f}\")\n",
    "    print(f\"- Weighted Precision: {test_precision_weighted:.4f}\")\n",
    "    print(f\"- Weighted Recall: {test_recall_weighted:.4f}\")\n",
    "    print(f\"- Weighted F1 Score: {test_f1_weighted:.4f}\")\n",
    "    print('='*35)\n",
    "    print('\\n')\n",
    "\n",
    "# Creating a summary DataFrame for easier comparison of test accuracy across models\n",
    "model_comparison = pd.DataFrame({\n",
    "    'Model': model_list,\n",
    "    'Test Accuracy': accuracy_list\n",
    "})\n",
    "\n",
    "# Printing the summary of model comparisons\n",
    "print(\"Model Comparison Summary:\")\n",
    "print(model_comparison)\n",
    "\n",
    "# Plotting the confusion matrices for all models using absolute counts\n",
    "fig, axes = plt.subplots(1, 3, figsize=(18, 5))  # Create a grid for subplots\n",
    "fig.suptitle('Confusion Matrices for Different Models (Absolute Counts)', fontsize=16)\n",
    "\n",
    "# Iterate over models and plot each confusion matrix\n",
    "for i, (cm, model_name) in enumerate(zip(confusion_matrices, model_list)):\n",
    "    # Plot using seaborn heatmap with absolute values\n",
    "    sns.heatmap(cm, annot=True, fmt='d', cmap='Blues', ax=axes[i], cbar=False, annot_kws={\"size\": 14})\n",
    "    axes[i].set_title(f'{model_name} Confusion Matrix', fontsize=14)\n",
    "    axes[i].set_xlabel('Predicted Label', fontsize=12)\n",
    "    axes[i].set_ylabel('True Label', fontsize=12)\n",
    "\n",
    "# Show the plot\n",
    "plt.tight_layout(rect=[0, 0.03, 1, 0.95])  # Adjust layout to fit the suptitle\n",
    "plt.show()\n"
   ]
  },
  {
   "cell_type": "markdown",
   "metadata": {},
   "source": [
    "Based on the model comparison, the Random Forest classifier outperformed the other models in terms of test accuracy, achieving a value of 85.46%, compared to 82.60% for K-Neighbors and 82.25% for the Decision Tree. While all models exhibited near-perfect performance on the training set, the Random Forest showed a better balance between training and test accuracy, suggesting it generalized more effectively to unseen data.\n",
    "\n",
    "Moreover, the Decision Tree classifier displayed signs of overfitting, with near-perfect metrics on the training set but a notable drop in performance on the test set. The K-Neighbors Classifier performed slightly better than the Decision Tree on the test set but still lagged behind the Random Forest.\n",
    "\n",
    "In conclusion, the Random Forest model is the most suitable choice among the three for this particular dataset, offering a good trade-off between complexity and performance on unseen data."
   ]
  },
  {
   "cell_type": "markdown",
   "metadata": {},
   "source": [
    "## Reference\n",
    "- Radwan, I. (n.d.). Feature Engineering for Logistic Regression. Retrieved from https://github.com/ibrahim-radwan/DSTS/blob/main/feature_engineering_logistic_reg.ipynb\n",
    "\n",
    "- Krishnaik, S. (n.d.). Boston House Pricing Project. Retrieved from https://github.com/krishnaik06/bostonhousepricing\n",
    "\n",
    "- Krishnaik, S. (n.d.). ML Project: Model Training. Retrieved from https://github.com/krishnaik06/mlproject/blob/main/notebook/2.%20MODEL%20TRAINING.ipynb"
   ]
  }
 ],
 "metadata": {
  "kernelspec": {
   "display_name": "myenv",
   "language": "python",
   "name": "python3"
  },
  "language_info": {
   "codemirror_mode": {
    "name": "ipython",
    "version": 3
   },
   "file_extension": ".py",
   "mimetype": "text/x-python",
   "name": "python",
   "nbconvert_exporter": "python",
   "pygments_lexer": "ipython3",
   "version": "3.12.4"
  }
 },
 "nbformat": 4,
 "nbformat_minor": 2
}
